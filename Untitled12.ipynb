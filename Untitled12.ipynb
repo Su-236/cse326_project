{
  "nbformat": 4,
  "nbformat_minor": 0,
  "metadata": {
    "colab": {
      "name": "Untitled12.ipynb",
      "provenance": [],
      "authorship_tag": "ABX9TyN2ixVXLEHp/1vqyJWPkDPo",
      "include_colab_link": true
    },
    "kernelspec": {
      "name": "python3",
      "display_name": "Python 3"
    }
  },
  "cells": [
    {
      "cell_type": "markdown",
      "metadata": {
        "id": "view-in-github",
        "colab_type": "text"
      },
      "source": [
        "<a href=\"https://colab.research.google.com/github/Su-236/cse326_project/blob/master/Untitled12.ipynb\" target=\"_parent\"><img src=\"https://colab.research.google.com/assets/colab-badge.svg\" alt=\"Open In Colab\"/></a>"
      ]
    },
    {
      "cell_type": "code",
      "metadata": {
        "id": "yAPVuSyWXGgS",
        "colab_type": "code",
        "colab": {
          "base_uri": "https://localhost:8080/",
          "height": 134
        },
        "outputId": "536d4e3d-a711-45e1-c1c9-06b66d914a14"
      },
      "source": [
        "n=int(input())\n",
        "for i in range(1,n+1):\n",
        "  for k in range(0,n-i):\n",
        "    print(\" \",end=' ')\n",
        "  for j in range(1,i+1):\n",
        "    print(\" * \",end=' ')\n",
        "  print()    "
      ],
      "execution_count": 10,
      "outputs": [
        {
          "output_type": "stream",
          "text": [
            "6\n",
            "           *  \n",
            "         *   *  \n",
            "       *   *   *  \n",
            "     *   *   *   *  \n",
            "   *   *   *   *   *  \n",
            " *   *   *   *   *   *  \n"
          ],
          "name": "stdout"
        }
      ]
    }
  ]
}