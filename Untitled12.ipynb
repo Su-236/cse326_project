{
  "nbformat": 4,
  "nbformat_minor": 0,
  "metadata": {
    "colab": {
      "name": "Untitled12.ipynb",
      "provenance": [],
      "authorship_tag": "ABX9TyNkBH2+xzO9LQVcPZqGkpJS",
      "include_colab_link": true
    },
    "kernelspec": {
      "name": "python3",
      "display_name": "Python 3"
    }
  },
  "cells": [
    {
      "cell_type": "markdown",
      "metadata": {
        "id": "view-in-github",
        "colab_type": "text"
      },
      "source": [
        "<a href=\"https://colab.research.google.com/github/Su-236/cse326_project/blob/master/Untitled12.ipynb\" target=\"_parent\"><img src=\"https://colab.research.google.com/assets/colab-badge.svg\" alt=\"Open In Colab\"/></a>"
      ]
    },
    {
      "cell_type": "code",
      "metadata": {
        "id": "yAPVuSyWXGgS",
        "colab_type": "code",
        "colab": {
          "base_uri": "https://localhost:8080/",
          "height": 134
        },
        "outputId": "536d4e3d-a711-45e1-c1c9-06b66d914a14"
      },
      "source": [
        "n=int(input())\n",
        "for i in range(1,n+1):\n",
        "  for k in range(0,n-i):\n",
        "    print(\" \",end=' ')\n",
        "  for j in range(1,i+1):\n",
        "    print(\" * \",end=' ')\n",
        "  print()    "
      ],
      "execution_count": 10,
      "outputs": [
        {
          "output_type": "stream",
          "text": [
            "6\n",
            "           *  \n",
            "         *   *  \n",
            "       *   *   *  \n",
            "     *   *   *   *  \n",
            "   *   *   *   *   *  \n",
            " *   *   *   *   *   *  \n"
          ],
          "name": "stdout"
        }
      ]
    },
    {
      "cell_type": "code",
      "metadata": {
        "id": "I2I91GzpcXs7",
        "colab_type": "code",
        "colab": {
          "base_uri": "https://localhost:8080/",
          "height": 34
        },
        "outputId": "eacb8799-bed8-4d13-a94b-d87ed6d2aa41"
      },
      "source": [
        "def abc(x,y):\n",
        "  s=0\n",
        "  for i in range(x,y+1):\n",
        "    s=s+i\n",
        "  print(s)\n",
        "abc (10,20)\n"
      ],
      "execution_count": 14,
      "outputs": [
        {
          "output_type": "stream",
          "text": [
            "165\n"
          ],
          "name": "stdout"
        }
      ]
    },
    {
      "cell_type": "code",
      "metadata": {
        "id": "GLgSB3sCfVyv",
        "colab_type": "code",
        "colab": {
          "base_uri": "https://localhost:8080/",
          "height": 67
        },
        "outputId": "a1cb666c-c839-4412-8b74-aa44b1240e1f"
      },
      "source": [
        "def g(x,y):\n",
        "  if x<y:\n",
        "    print(y)\n",
        "  else:\n",
        "    print(x)\n",
        "a=int(input())\n",
        "b=int(input())    \n",
        "g(a,b)\n",
        "     "
      ],
      "execution_count": 18,
      "outputs": [
        {
          "output_type": "stream",
          "text": [
            "4\n",
            "5\n",
            "5\n"
          ],
          "name": "stdout"
        }
      ]
    },
    {
      "cell_type": "code",
      "metadata": {
        "id": "etDEf1kffxk6",
        "colab_type": "code",
        "colab": {
          "base_uri": "https://localhost:8080/",
          "height": 34
        },
        "outputId": "b20ca4d6-67a4-48fe-acda-8cee64d4e907"
      },
      "source": [
        "def display(first,second):\n",
        "  print(\"name\",first,\"age\",second)\n",
        "display('1st','2nd')  "
      ],
      "execution_count": 19,
      "outputs": [
        {
          "output_type": "stream",
          "text": [
            "name 1st age 2nd\n"
          ],
          "name": "stdout"
        }
      ]
    },
    {
      "cell_type": "code",
      "metadata": {
        "id": "iNaH0gCDimt1",
        "colab_type": "code",
        "colab": {}
      },
      "source": [
        "def display(first,second):\n",
        "  print(\"name\",first,\"age\",second)\n",
        "display('1st','2nd')  "
      ],
      "execution_count": null,
      "outputs": []
    },
    {
      "cell_type": "code",
      "metadata": {
        "id": "0m2nHr5vi4tq",
        "colab_type": "code",
        "colab": {
          "base_uri": "https://localhost:8080/",
          "height": 34
        },
        "outputId": "7685f1f1-0224-4c09-b0fd-6a25526378e7"
      },
      "source": [
        "def display(name,age):\n",
        "  print(\"name\",name,\"age\",age)\n",
        "display('saurav','20')  "
      ],
      "execution_count": 20,
      "outputs": [
        {
          "output_type": "stream",
          "text": [
            "name saurav age 20\n"
          ],
          "name": "stdout"
        }
      ]
    }
  ]
}