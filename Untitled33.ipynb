{
  "nbformat": 4,
  "nbformat_minor": 0,
  "metadata": {
    "colab": {
      "name": "Untitled33.ipynb",
      "provenance": [],
      "authorship_tag": "ABX9TyNmihSoj47mQk+sBXwOW9IC",
      "include_colab_link": true
    },
    "kernelspec": {
      "name": "python3",
      "display_name": "Python 3"
    }
  },
  "cells": [
    {
      "cell_type": "markdown",
      "metadata": {
        "id": "view-in-github",
        "colab_type": "text"
      },
      "source": [
        "<a href=\"https://colab.research.google.com/github/Su-236/cse326_project/blob/master/Untitled33.ipynb\" target=\"_parent\"><img src=\"https://colab.research.google.com/assets/colab-badge.svg\" alt=\"Open In Colab\"/></a>"
      ]
    },
    {
      "cell_type": "code",
      "metadata": {
        "id": "GbU3W2W1B-an",
        "outputId": "3b5ad58a-344d-4ddc-fa7d-7f3adcf7a196",
        "colab": {
          "base_uri": "https://localhost:8080/",
          "height": 35
        }
      },
      "source": [
        "print(\"%-20.5d\"%(5))# %d is used to reserve some spaces"
      ],
      "execution_count": 5,
      "outputs": [
        {
          "output_type": "stream",
          "text": [
            "00005               \n"
          ],
          "name": "stdout"
        }
      ]
    },
    {
      "cell_type": "code",
      "metadata": {
        "id": "5NAoByylD9bz",
        "outputId": "df74d36c-9b9b-46dc-cff9-efbb5d87eae2",
        "colab": {
          "base_uri": "https://localhost:8080/",
          "height": 35
        }
      },
      "source": [
        "print(\"%f\"%(54.897)) # by defualt displaying zeroes"
      ],
      "execution_count": 7,
      "outputs": [
        {
          "output_type": "stream",
          "text": [
            "54.897000\n"
          ],
          "name": "stdout"
        }
      ]
    },
    {
      "cell_type": "code",
      "metadata": {
        "id": "ZJb1K5EcEL2z",
        "outputId": "ca503256-d3cb-41d3-f4e6-3f3f747be44c",
        "colab": {
          "base_uri": "https://localhost:8080/",
          "height": 35
        }
      },
      "source": [
        "print(\"%-20.4f\"%(54.897)) # by defualt displaying zeroes"
      ],
      "execution_count": 10,
      "outputs": [
        {
          "output_type": "stream",
          "text": [
            "54.8970             \n"
          ],
          "name": "stdout"
        }
      ]
    },
    {
      "cell_type": "code",
      "metadata": {
        "id": "bFE52fdmEgWy"
      },
      "source": [
        "myf = input('enter file name')\n",
        "f = open(myf)# by default reading mode\n",
        "upperl=\"ABCDEFGHIJKLMNOPQRSTUVWXYZ\"\n",
        "dig=\"123456789\"\n",
        "ul,ll,dc=0,0\n",
        "for ch in f.read():\n",
        "  if ch in upperl:\n",
        "    ul=ul+1\n",
        "  elif ch in upperl.lower():\n",
        "    ll=ll+1  \n",
        "  elif ch in dig:\n",
        "    dc=dc+1\n",
        "print('total upper case letters = ',ul)\n",
        "print('total lower case letters = ',ll)\n",
        "print('total digits case  = ',dc)\n"
      ],
      "execution_count": null,
      "outputs": []
    },
    {
      "cell_type": "code",
      "metadata": {
        "id": "rpqiM8LRHg69",
        "outputId": "c2623301-d1a1-4069-9c5f-2d6189d00419",
        "colab": {
          "base_uri": "https://localhost:8080/",
          "height": 88
        }
      },
      "source": [
        "try:\n",
        "  x=int(input(\"enter first number\"))\n",
        "  y=int(input(\"enter second number\"))\n",
        "  print(\"Division = \",x/y)\n",
        "except:\n",
        "  print(\"Division by zero error\")\n",
        "else:\n",
        "  print(\"this is else block\")\n",
        "finally:\n",
        "  print(\"this is finally block\")"
      ],
      "execution_count": 13,
      "outputs": [
        {
          "output_type": "stream",
          "text": [
            "enter first number1\n",
            "enter second number0\n",
            "Division by zero error\n",
            "this is finally block\n"
          ],
          "name": "stdout"
        }
      ]
    },
    {
      "cell_type": "code",
      "metadata": {
        "id": "bHJNHvQ8J-KF",
        "outputId": "9594e352-84e1-4302-a7c7-d153f964a4b0",
        "colab": {
          "base_uri": "https://localhost:8080/",
          "height": 35
        }
      },
      "source": [
        "class myError(Exception):\n",
        "  pass\n",
        "try:\n",
        "  raise myError(\"this is user defined exception\")\n",
        "except myError as msg:\n",
        "  print(msg)\n",
        "      "
      ],
      "execution_count": 15,
      "outputs": [
        {
          "output_type": "stream",
          "text": [
            "this is user defined exception\n"
          ],
          "name": "stdout"
        }
      ]
    },
    {
      "cell_type": "code",
      "metadata": {
        "id": "qBCsKiy7Kzn7",
        "outputId": "c43d0806-e24f-48cc-e56c-2fd182876b8b",
        "colab": {
          "base_uri": "https://localhost:8080/",
          "height": 132
        }
      },
      "source": [
        "f = open('k19by.txt')\n",
        "i,sum =0,0.0\n",
        "while True:\n",
        "  if f.read()==\"\":\n",
        "    break\n",
        "  f.seek(i+11)\n",
        "  print(\"Registration number is \",f.read(10))\n",
        "  f.seek(i+11)\n",
        "  sum=sum+int(f.read(2))\n",
        "   f.seek(i+14)\n",
        "  sum=sum+int(f.read(2))\n",
        "   f.seek(i+17)\n",
        "  sum=sum+int(f.read(2))\n",
        "   f.seek(i+20)\n",
        "  sum=sum+int(f.read(2))\n",
        "   f.seek(i+123)\n",
        "  sum=sum+int(f.read(2))\n",
        "  print(\"Average marks are \",sum/5)(\n",
        "  i=i+27\n",
        "  sum=0.0\n",
        "f.close \n",
        "\n",
        "\n",
        "\n"
      ],
      "execution_count": 16,
      "outputs": [
        {
          "output_type": "error",
          "ename": "IndentationError",
          "evalue": "ignored",
          "traceback": [
            "\u001b[0;36m  File \u001b[0;32m\"<ipython-input-16-30f871cc7a41>\"\u001b[0;36m, line \u001b[0;32m10\u001b[0m\n\u001b[0;31m    f.seek(i+14)\u001b[0m\n\u001b[0m    ^\u001b[0m\n\u001b[0;31mIndentationError\u001b[0m\u001b[0;31m:\u001b[0m unexpected indent\n"
          ]
        }
      ]
    },
    {
      "cell_type": "code",
      "metadata": {
        "id": "Yc-wsmPaOkFj"
      },
      "source": [
        ""
      ],
      "execution_count": null,
      "outputs": []
    }
  ]
}