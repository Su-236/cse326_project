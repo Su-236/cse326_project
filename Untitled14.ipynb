{
  "nbformat": 4,
  "nbformat_minor": 0,
  "metadata": {
    "colab": {
      "name": "Untitled14.ipynb",
      "provenance": [],
      "authorship_tag": "ABX9TyMT+j+YRESzhNeIlKBstejO",
      "include_colab_link": true
    },
    "kernelspec": {
      "name": "python3",
      "display_name": "Python 3"
    }
  },
  "cells": [
    {
      "cell_type": "markdown",
      "metadata": {
        "id": "view-in-github",
        "colab_type": "text"
      },
      "source": [
        "<a href=\"https://colab.research.google.com/github/Su-236/cse326_project/blob/master/Untitled14.ipynb\" target=\"_parent\"><img src=\"https://colab.research.google.com/assets/colab-badge.svg\" alt=\"Open In Colab\"/></a>"
      ]
    },
    {
      "cell_type": "code",
      "metadata": {
        "id": "YwFcxmWcqP6V",
        "colab_type": "code",
        "colab": {
          "base_uri": "https://localhost:8080/",
          "height": 34
        },
        "outputId": "e86c7b15-9269-4e19-a452-69f716f65084"
      },
      "source": [
        "def fact(n):\n",
        "  if n==0:\n",
        "    return 1\n",
        "  return n*fact(n-1)\n",
        "fact(5)    "
      ],
      "execution_count": 2,
      "outputs": [
        {
          "output_type": "execute_result",
          "data": {
            "text/plain": [
              "120"
            ]
          },
          "metadata": {
            "tags": []
          },
          "execution_count": 2
        }
      ]
    },
    {
      "cell_type": "code",
      "metadata": {
        "id": "xqHV_0qWvHgI",
        "colab_type": "code",
        "colab": {
          "base_uri": "https://localhost:8080/",
          "height": 50
        },
        "outputId": "59f90405-6f40-48bd-9124-b75f33ee40e2"
      },
      "source": [
        "x=int(input())\n",
        "y=x//2\n",
        "def prime(x,y):\n",
        "  c=0\n",
        "  for i in range(2,y+1,1):\n",
        "    if x%i==0:\n",
        "      c+=1\n",
        "  if c==0:\n",
        "    print('prime')\n",
        "  else:\n",
        "    print('not')\n",
        "prime(x,y)          "
      ],
      "execution_count": 5,
      "outputs": [
        {
          "output_type": "stream",
          "text": [
            "10\n",
            "not\n"
          ],
          "name": "stdout"
        }
      ]
    }
  ]
}