{
  "nbformat": 4,
  "nbformat_minor": 0,
  "metadata": {
    "colab": {
      "name": "Untitled3.ipynb",
      "provenance": [],
      "authorship_tag": "ABX9TyPoRhsVVtx+vLWN0gbQZ5as",
      "include_colab_link": true
    },
    "kernelspec": {
      "name": "python3",
      "display_name": "Python 3"
    }
  },
  "cells": [
    {
      "cell_type": "markdown",
      "metadata": {
        "id": "view-in-github",
        "colab_type": "text"
      },
      "source": [
        "<a href=\"https://colab.research.google.com/github/Su-236/cse326_project/blob/master/Untitled3.ipynb\" target=\"_parent\"><img src=\"https://colab.research.google.com/assets/colab-badge.svg\" alt=\"Open In Colab\"/></a>"
      ]
    },
    {
      "cell_type": "code",
      "metadata": {
        "id": "7DVNqzQIRfmS",
        "colab_type": "code",
        "colab": {}
      },
      "source": [
        "name = input(\"Enter file:\")\n",
        "if len(name) < 1 : name = \"mbox-short.txt\"\n",
        "handle = open(name)\n",
        "rj={}\n",
        "for i in handle:\n",
        "    if i.startswith(\"From\") and len(i.split())>2:\n",
        "        line=i.split()\n",
        "        if not rj.has_key(line[5][:2]):\n",
        "            rj[line[5][:2]]=1\n",
        "        else:\n",
        "           rj[line[5][:2]]+=1\n",
        "key=sorted(rj)\n",
        "for i in key:\n",
        " print(i,rj[i])\n",
        "        \n",
        "       \n",
        "           "
      ],
      "execution_count": null,
      "outputs": []
    }
  ]
}