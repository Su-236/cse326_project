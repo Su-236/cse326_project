{
  "nbformat": 4,
  "nbformat_minor": 0,
  "metadata": {
    "colab": {
      "name": "Untitled8.ipynb",
      "provenance": [],
      "authorship_tag": "ABX9TyOZaPrxW9hLbdH7oMH7gAjV",
      "include_colab_link": true
    },
    "kernelspec": {
      "name": "python3",
      "display_name": "Python 3"
    }
  },
  "cells": [
    {
      "cell_type": "markdown",
      "metadata": {
        "id": "view-in-github",
        "colab_type": "text"
      },
      "source": [
        "<a href=\"https://colab.research.google.com/github/Su-236/cse326_project/blob/master/Untitled8.ipynb\" target=\"_parent\"><img src=\"https://colab.research.google.com/assets/colab-badge.svg\" alt=\"Open In Colab\"/></a>"
      ]
    },
    {
      "cell_type": "code",
      "metadata": {
        "id": "uewHzA7Gthoz",
        "colab_type": "code",
        "colab": {
          "base_uri": "https://localhost:8080/",
          "height": 134
        },
        "outputId": "9b93b44c-7404-4368-b18c-8031c772f6d2"
      },
      "source": [
        "for i in range(1,5):\n",
        "  for j in range(1,5):\n",
        "    if j<=i:\n",
        "      print(j,end=\" \")\n",
        "    else:\n",
        "      print('',end=\" \")  \n",
        "  print()  \n",
        "for i in range(1,4):\n",
        "  for j in range(1,4):\n",
        "    if j<=4-i:\n",
        "      print(j,end=\" \")\n",
        "    else:\n",
        "      print(\" \",end=\" \")\n",
        "  print()     "
      ],
      "execution_count": 20,
      "outputs": [
        {
          "output_type": "stream",
          "text": [
            "1    \n",
            "1 2   \n",
            "1 2 3  \n",
            "1 2 3 4 \n",
            "1 2 3 \n",
            "1 2   \n",
            "1     \n"
          ],
          "name": "stdout"
        }
      ]
    },
    {
      "cell_type": "code",
      "metadata": {
        "id": "A0d9gaJG67yS",
        "colab_type": "code",
        "colab": {
          "base_uri": "https://localhost:8080/",
          "height": 67
        },
        "outputId": "a9d19e6d-460b-4a8e-f122-a1a39c5a1243"
      },
      "source": [
        "for i in range(1,4):\n",
        "  for j in range(1,4):\n",
        "    if j<=4-i:\n",
        "      print(\"*\",end=\" \")\n",
        "    else:\n",
        "      print('',end=\" \")\n",
        "  print()     "
      ],
      "execution_count": 19,
      "outputs": [
        {
          "output_type": "stream",
          "text": [
            "* * * \n",
            "* *  \n",
            "*   \n"
          ],
          "name": "stdout"
        }
      ]
    },
    {
      "cell_type": "code",
      "metadata": {
        "id": "--SNQlW54wLM",
        "colab_type": "code",
        "colab": {
          "base_uri": "https://localhost:8080/",
          "height": 84
        },
        "outputId": "a33f089c-25d5-4dfa-bc74-d258f4274cfa"
      },
      "source": [
        "n=int(input(\"enter the number\"))\n",
        "for i in range(1,n+1):\n",
        "  for j in range(1,n+1):\n",
        "    if j<=n+1-i:\n",
        "      print(\"*\",end=' ')\n",
        "    else:\n",
        "      print(\" \",end=' ')\n",
        "  print()"
      ],
      "execution_count": 5,
      "outputs": [
        {
          "output_type": "stream",
          "text": [
            "enter the number3\n",
            "* * * \n",
            "* *   \n",
            "*     \n"
          ],
          "name": "stdout"
        }
      ]
    }
  ]
}