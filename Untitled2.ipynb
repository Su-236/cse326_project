{
  "nbformat": 4,
  "nbformat_minor": 0,
  "metadata": {
    "colab": {
      "name": "Untitled2.ipynb",
      "provenance": [],
      "authorship_tag": "ABX9TyNxmxAL4Y9MBLP0QjlJhvNm",
      "include_colab_link": true
    },
    "kernelspec": {
      "name": "python3",
      "display_name": "Python 3"
    }
  },
  "cells": [
    {
      "cell_type": "markdown",
      "metadata": {
        "id": "view-in-github",
        "colab_type": "text"
      },
      "source": [
        "<a href=\"https://colab.research.google.com/github/Su-236/cse326_project/blob/master/Untitled2.ipynb\" target=\"_parent\"><img src=\"https://colab.research.google.com/assets/colab-badge.svg\" alt=\"Open In Colab\"/></a>"
      ]
    },
    {
      "cell_type": "code",
      "metadata": {
        "id": "y22sFoRirS0a",
        "colab_type": "code",
        "colab": {
          "base_uri": "https://localhost:8080/",
          "height": 118
        },
        "outputId": "9dfff199-d521-4040-cf0b-3bb74f9c441c"
      },
      "source": [
        "n=int(input(\"enter the number\"))\n",
        "for i in range(1,n+1):\n",
        "  for j in range(1,n+1):\n",
        "    if j<=i:\n",
        "      print(\"*\",end=' ')\n",
        "    else:\n",
        "      print(\" \",end=' ')\n",
        "  print()    "
      ],
      "execution_count": 11,
      "outputs": [
        {
          "output_type": "stream",
          "text": [
            "enter the number5\n",
            "*         \n",
            "* *       \n",
            "* * *     \n",
            "* * * *   \n",
            "* * * * * \n"
          ],
          "name": "stdout"
        }
      ]
    },
    {
      "cell_type": "code",
      "metadata": {
        "id": "AG-m2t-luIe3",
        "colab_type": "code",
        "colab": {
          "base_uri": "https://localhost:8080/",
          "height": 118
        },
        "outputId": "8eddfaba-fc1a-49d7-8327-576caf05e56f"
      },
      "source": [
        "n=int(input(\"enter the number\"))\n",
        "for i in range(1,n+1):\n",
        "  for j in range(1,n+1):\n",
        "    if j>=n+1-i:\n",
        "      print(\"*\",end=' ')\n",
        "    else:\n",
        "      print(\" \",end=' ')\n",
        "  print()    "
      ],
      "execution_count": 15,
      "outputs": [
        {
          "output_type": "stream",
          "text": [
            "enter the number5\n",
            "        * \n",
            "      * * \n",
            "    * * * \n",
            "  * * * * \n",
            "* * * * * \n"
          ],
          "name": "stdout"
        }
      ]
    },
    {
      "cell_type": "code",
      "metadata": {
        "id": "UqS5TAukwHRE",
        "colab_type": "code",
        "colab": {
          "base_uri": "https://localhost:8080/",
          "height": 118
        },
        "outputId": "87087505-cfd8-4673-b4e9-71b32d10e4f1"
      },
      "source": [
        "n=int(input(\"enter the number\"))\n",
        "for i in range(1,n+1):\n",
        "  for j in range(1,n+1):\n",
        "    if j<=n+1-i:\n",
        "      print(\"*\",end=' ')\n",
        "    else:\n",
        "      print(\" \",end=' ')\n",
        "  print()    "
      ],
      "execution_count": 16,
      "outputs": [
        {
          "output_type": "stream",
          "text": [
            "enter the number5\n",
            "* * * * * \n",
            "* * * *   \n",
            "* * *     \n",
            "* *       \n",
            "*         \n"
          ],
          "name": "stdout"
        }
      ]
    },
    {
      "cell_type": "code",
      "metadata": {
        "id": "OYgjuEE9x2nA",
        "colab_type": "code",
        "colab": {
          "base_uri": "https://localhost:8080/",
          "height": 67
        },
        "outputId": "cf48a18e-10d5-4832-93f9-6073343a4653"
      },
      "source": [
        "\n",
        "for i in range(1,4):\n",
        "  for j in range(1,7):\n",
        "    if j>=5-i and j<=3+i:\n",
        "      print(\"*\",end=' ')\n",
        "    else:\n",
        "      print(\" \",end=' ')\n",
        "  print()    "
      ],
      "execution_count": 23,
      "outputs": [
        {
          "output_type": "stream",
          "text": [
            "      *     \n",
            "    * * *   \n",
            "  * * * * * \n"
          ],
          "name": "stdout"
        }
      ]
    },
    {
      "cell_type": "code",
      "metadata": {
        "id": "H_AMjG62EGe2",
        "colab_type": "code",
        "colab": {
          "base_uri": "https://localhost:8080/",
          "height": 84
        },
        "outputId": "f491178f-ca79-4b2f-daa5-87cbe88fb326"
      },
      "source": [
        "for i in range(1,5):\n",
        "  for j in range(1,8):\n",
        "    if j>=i and j<=8-i:\n",
        "      print(\"*\",end=' ')\n",
        "    else:\n",
        "      print(\" \",end=' ')\n",
        "  print()    "
      ],
      "execution_count": 24,
      "outputs": [
        {
          "output_type": "stream",
          "text": [
            "* * * * * * * \n",
            "  * * * * *   \n",
            "    * * *     \n",
            "      *       \n"
          ],
          "name": "stdout"
        }
      ]
    }
  ]
}