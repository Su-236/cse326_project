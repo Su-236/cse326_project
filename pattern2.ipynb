{
  "nbformat": 4,
  "nbformat_minor": 0,
  "metadata": {
    "colab": {
      "name": "Untitled1.ipynb",
      "provenance": [],
      "authorship_tag": "ABX9TyMMTagoHmtjvtIms1xd5+7a",
      "include_colab_link": true
    },
    "kernelspec": {
      "name": "python3",
      "display_name": "Python 3"
    }
  },
  "cells": [
    {
      "cell_type": "markdown",
      "metadata": {
        "id": "view-in-github",
        "colab_type": "text"
      },
      "source": [
        "<a href=\"https://colab.research.google.com/github/Su-236/cse326_project/blob/master/pattern2.ipynb\" target=\"_parent\"><img src=\"https://colab.research.google.com/assets/colab-badge.svg\" alt=\"Open In Colab\"/></a>"
      ]
    },
    {
      "cell_type": "code",
      "metadata": {
        "id": "qYPU_yj_lWCJ",
        "colab_type": "code",
        "colab": {}
      },
      "source": [
        "n=1\n",
        "x=n\n",
        "for i in range(1,6):\n",
        "  n=n+1\n",
        "  for j in range(1,n,1):\n",
        "    print(\"*\",end=' ')\n",
        "    x=n+1\n",
        "  print()  "
      ],
      "execution_count": null,
      "outputs": []
    },
    {
      "cell_type": "code",
      "metadata": {
        "id": "ZEfc6lVrrAwh",
        "colab_type": "code",
        "colab": {}
      },
      "source": [
        "n=int(input(\"enter the number\"))\n",
        "for i in range(1,n+1):\n",
        "  for j in range(1,n+1):\n",
        "    if j<=i:\n",
        "      print(\"*\",end=' ')\n",
        "    else:\n",
        "      print(\" \",end=' ')\n",
        "  print()    "
      ],
      "execution_count": null,
      "outputs": []
    },
    {
      "cell_type": "code",
      "metadata": {
        "id": "25TLN0iXv6v4",
        "colab_type": "code",
        "colab": {
          "base_uri": "https://localhost:8080/",
          "height": 134
        },
        "outputId": "1e378fe1-cdda-4b32-a267-ed8f4169bd88"
      },
      "source": [
        "n=int(input(\"enter the number\"))\n",
        "for i in range(1,n+1):\n",
        "  for j in range(n,0,-1):\n",
        "    if j>=i:\n",
        "      print(\"*\",end=' ')\n",
        "    else:\n",
        "      print(\" \",end=' ')\n",
        "  print()    "
      ],
      "execution_count": 11,
      "outputs": [
        {
          "output_type": "stream",
          "text": [
            "enter the number6\n",
            "* * * * * * \n",
            "* * * * *   \n",
            "* * * *     \n",
            "* * *       \n",
            "* *         \n",
            "*           \n"
          ],
          "name": "stdout"
        }
      ]
    },
    {
      "cell_type": "code",
      "metadata": {
        "id": "oWfFvJ0isIoP",
        "colab_type": "code",
        "colab": {
          "base_uri": "https://localhost:8080/",
          "height": 101
        },
        "outputId": "dd5b533a-783b-4b8d-eba9-d910a8df34a7"
      },
      "source": [
        "n=7\n",
        "x=n\n",
        "for i in range(1,6):\n",
        "  n=n-1\n",
        "  for j in range(1,n,1):\n",
        "    print(\"*\",end=' ')\n",
        "    x=n-1\n",
        "  print()  "
      ],
      "execution_count": 9,
      "outputs": [
        {
          "output_type": "stream",
          "text": [
            "* * * * * \n",
            "* * * * \n",
            "* * * \n",
            "* * \n",
            "* \n"
          ],
          "name": "stdout"
        }
      ]
    },
    {
      "cell_type": "code",
      "metadata": {
        "id": "fL-9rd90w4Fd",
        "colab_type": "code",
        "colab": {
          "base_uri": "https://localhost:8080/",
          "height": 134
        },
        "outputId": "39fa5b05-a4e9-4254-fd5c-e3d4dac44855"
      },
      "source": [
        "n=int(input(\"enter the number\"))\n",
        "for i in range(1,n+1):\n",
        "  for j in range(n,0,-1):\n",
        "    if j>=i:\n",
        "      print(j,end=' ')\n",
        "    else:\n",
        "      print(\" \",end=' ')\n",
        "  print()    "
      ],
      "execution_count": 13,
      "outputs": [
        {
          "output_type": "stream",
          "text": [
            "enter the number6\n",
            "6 5 4 3 2 1 \n",
            "6 5 4 3 2   \n",
            "6 5 4 3     \n",
            "6 5 4       \n",
            "6 5         \n",
            "6           \n"
          ],
          "name": "stdout"
        }
      ]
    },
    {
      "cell_type": "code",
      "metadata": {
        "id": "qdYN_CRGxcsN",
        "colab_type": "code",
        "colab": {
          "base_uri": "https://localhost:8080/",
          "height": 118
        },
        "outputId": "2fe5f547-9673-42ee-d29f-11f034fd84c1"
      },
      "source": [
        "n=int(input(\"enter the number\"))\n",
        "for i in range(1,n+1):\n",
        "  for j in range(1,n+1):\n",
        "    if j<=i:\n",
        "      print(i,end=' ')\n",
        "    else:\n",
        "      print(\" \",end=' ')\n",
        "  print()    "
      ],
      "execution_count": 15,
      "outputs": [
        {
          "output_type": "stream",
          "text": [
            "enter the number5\n",
            "1         \n",
            "2 2       \n",
            "3 3 3     \n",
            "4 4 4 4   \n",
            "5 5 5 5 5 \n"
          ],
          "name": "stdout"
        }
      ]
    }
  ]
}