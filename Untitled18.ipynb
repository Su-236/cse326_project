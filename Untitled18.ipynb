{
  "nbformat": 4,
  "nbformat_minor": 0,
  "metadata": {
    "colab": {
      "name": "Untitled18.ipynb",
      "provenance": [],
      "authorship_tag": "ABX9TyNYcmfhTjR0CclLWD7U/hgp",
      "include_colab_link": true
    },
    "kernelspec": {
      "name": "python3",
      "display_name": "Python 3"
    }
  },
  "cells": [
    {
      "cell_type": "markdown",
      "metadata": {
        "id": "view-in-github",
        "colab_type": "text"
      },
      "source": [
        "<a href=\"https://colab.research.google.com/github/Su-236/cse326_project/blob/master/Untitled18.ipynb\" target=\"_parent\"><img src=\"https://colab.research.google.com/assets/colab-badge.svg\" alt=\"Open In Colab\"/></a>"
      ]
    },
    {
      "cell_type": "code",
      "metadata": {
        "id": "0QbalKpjjWQJ",
        "colab_type": "code",
        "colab": {
          "base_uri": "https://localhost:8080/",
          "height": 67
        },
        "outputId": "8bc73aa7-2d71-48af-d256-b3d8546658f2"
      },
      "source": [
        "class over:\n",
        "  def __init__(self,x):\n",
        "    self.x=x\n",
        "  def __add__(self,other):\n",
        "    print('the value of ob1 ',self.x)\n",
        "    print('the value of ob1 ',other.x)\n",
        "    print('the value of addition ',end='')\n",
        "    return (self.x+other.x)\n",
        "ob1=over(20)\n",
        "ob2=over(30)\n",
        "ob3=ob1+ob2# ob1.__add__(ob2)\n",
        "print(ob3)\n",
        "#ob1+ob2 wil call the int class__add__\n",
        "#ob1.__add__(ob2)"
      ],
      "execution_count": 1,
      "outputs": [
        {
          "output_type": "stream",
          "text": [
            "the value of ob1  20\n",
            "the value of ob1  30\n",
            "the value of addition 50\n"
          ],
          "name": "stdout"
        }
      ]
    },
    {
      "cell_type": "code",
      "metadata": {
        "id": "9GfYKJaPpNyD",
        "colab_type": "code",
        "colab": {}
      },
      "source": [
        "c"
      ],
      "execution_count": null,
      "outputs": []
    },
    {
      "cell_type": "code",
      "metadata": {
        "id": "BVSLF-PCpOq0",
        "colab_type": "code",
        "colab": {
          "base_uri": "https://localhost:8080/",
          "height": 128
        },
        "outputId": "f4b29119-9471-4dc0-bb63-fdf8942e37e6"
      },
      "source": [
        "class demo:\n",
        "  def __lt__(self,x):\n",
        "    self.x=x\n",
        "\n",
        "  def __lt__(self,other):\n",
        "    print('ob1: ',self.x)\n",
        "    print('ob2: ',other.x)\n",
        "    print('ob1<ob2: ',end='')\n",
        "    return self.x <other.x \n",
        "  \n",
        "  def __gt__(self,other):\n",
        "     print('ob1>ob2: ',end='')\n",
        "     return self.x>other.x\n",
        "  def __le_(self,other):     \n",
        "    print('ob1<=ob2: ',end='')\n",
        "    return self .x <= other.x\n",
        "ob"
      ],
      "execution_count": 2,
      "outputs": [
        {
          "output_type": "error",
          "ename": "SyntaxError",
          "evalue": "ignored",
          "traceback": [
            "\u001b[0;36m  File \u001b[0;32m\"<ipython-input-2-8fb4f5178534>\"\u001b[0;36m, line \u001b[0;32m1\u001b[0m\n\u001b[0;31m    class demo:\u001b[0m\n\u001b[0m               ^\u001b[0m\n\u001b[0;31mSyntaxError\u001b[0m\u001b[0;31m:\u001b[0m unexpected EOF while parsing\n"
          ]
        }
      ]
    },
    {
      "cell_type": "code",
      "metadata": {
        "id": "jnvBM-sxpRgr",
        "colab_type": "code",
        "colab": {}
      },
      "source": [
        "class a:\n",
        "  print('bc')\n",
        "class b(a):\n",
        "  print('dc')\n",
        "ob2=b()    \n",
        "\n",
        "\n"
      ],
      "execution_count": null,
      "outputs": []
    },
    {
      "cell_type": "code",
      "metadata": {
        "id": "Jn46oCQrrcQr",
        "colab_type": "code",
        "colab": {
          "base_uri": "https://localhost:8080/",
          "height": 50
        },
        "outputId": "a1080290-e28b-40e9-e77e-6450f11667ec"
      },
      "source": [
        "class parent:\n",
        "  def setcord(self,x,y):\n",
        "    self.x=x\n",
        "    self.y=y\n",
        "\n",
        "class child(parent):\n",
        "  def draw(self):\n",
        "    print('x1= ',self.x,'on x')\n",
        "    print('x2= ',self.y,'on y')\n",
        "\n",
        "c=child()\n",
        "c.setcord(10,20)\n",
        "c.draw()    \n"
      ],
      "execution_count": 4,
      "outputs": [
        {
          "output_type": "stream",
          "text": [
            "x1=  10 on x\n",
            "x2=  20 on y\n"
          ],
          "name": "stdout"
        }
      ]
    },
    {
      "cell_type": "code",
      "metadata": {
        "id": "viCN-Pv7tbCv",
        "colab_type": "code",
        "colab": {}
      },
      "source": [
        "class a:\n",
        "  name=''\n",
        "  age=0\n",
        "\n",
        "class b(a):\n",
        "  height=''\n",
        "class c(b):\n",
        "  weight=''\n",
        "\n",
        "  def read(self):\n",
        "\n",
        "    print('enter the details')\n",
        "    self.name=input('')\n",
        "    self.age=input('')\n",
        "    self.height=input('')\n",
        "    self.weight=input('')\n",
        "  def display(self):\n",
        "    print(\"enter the details\")\n",
        "    print('name',self.name)\n",
        "    print('age',self.age)\n",
        "    print('height',self.height)\n",
        "    print('weight',self.weight)\n"
      ],
      "execution_count": null,
      "outputs": []
    },
    {
      "cell_type": "code",
      "metadata": {
        "id": "jSOlmD7VsIQL",
        "colab_type": "code",
        "colab": {}
      },
      "source": [
        ""
      ],
      "execution_count": null,
      "outputs": []
    }
  ]
}