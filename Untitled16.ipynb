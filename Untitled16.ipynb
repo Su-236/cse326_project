{
  "nbformat": 4,
  "nbformat_minor": 0,
  "metadata": {
    "colab": {
      "name": "Untitled16.ipynb",
      "provenance": [],
      "collapsed_sections": [],
      "authorship_tag": "ABX9TyPSKQsI3akQ3ImIv7v56UuR",
      "include_colab_link": true
    },
    "kernelspec": {
      "name": "python3",
      "display_name": "Python 3"
    }
  },
  "cells": [
    {
      "cell_type": "markdown",
      "metadata": {
        "id": "view-in-github",
        "colab_type": "text"
      },
      "source": [
        "<a href=\"https://colab.research.google.com/github/Su-236/cse326_project/blob/master/Untitled16.ipynb\" target=\"_parent\"><img src=\"https://colab.research.google.com/assets/colab-badge.svg\" alt=\"Open In Colab\"/></a>"
      ]
    },
    {
      "cell_type": "code",
      "metadata": {
        "id": "ji_CnNd35m8v",
        "colab_type": "code",
        "colab": {}
      },
      "source": [
        "class demo:\n",
        "  def __init__(self):\n",
        "    print('welcome')\n",
        "  def __del__(self):\n",
        "    print('destructor called')\n",
        "ob1=demo()\n",
        "ob2=ob1\n",
        "ob3=ob1\n",
        "print(\"id=\",id(ob1))\n",
        "print(\"id=\",id(ob2))\n",
        "print(\"id=\",id(ob3))\n",
        "del ob2\n",
        "del ob1\n",
        "del ob3\n",
        "print(\"id=\",id(ob1))\n",
        "print(\"id=\",id(ob2))\n",
        "print(\"id=\",id(ob3))\n",
        "#des is not invoked unless all the aliases are deleted\n",
        "#is called exaclty once \n",
        "\n"
      ],
      "execution_count": null,
      "outputs": []
    },
    {
      "cell_type": "code",
      "metadata": {
        "id": "hrk_Ttjr8vGr",
        "colab_type": "code",
        "colab": {
          "base_uri": "https://localhost:8080/",
          "height": 118
        },
        "outputId": "ebc18bbf-16e4-4b18-cace-bf349186d42f"
      },
      "source": [
        "class demo:\n",
        "  def __init__(self):\n",
        "    print('welcome')\n",
        "  def __del__(self):\n",
        "    print('destructor called')\n",
        "ob1=demo()\n",
        "ob2=ob1\n",
        "ob3=ob1\n",
        "print(\"id=\",id(ob1))\n",
        "print(\"id=\",id(ob2))\n",
        "print(\"id=\",id(ob3))\n",
        "del ob2\n",
        "del ob1\n",
        "del ob3\n",
        "#des is not invoked unless all the aliases are deleted\n",
        "#is called exaclty once \n",
        "\n"
      ],
      "execution_count": 4,
      "outputs": [
        {
          "output_type": "stream",
          "text": [
            "welcome\n",
            "destructor called\n",
            "id= 140316295950688\n",
            "id= 140316295950688\n",
            "id= 140316295950688\n",
            "destructor called\n"
          ],
          "name": "stdout"
        }
      ]
    },
    {
      "cell_type": "code",
      "metadata": {
        "id": "N77EZXpp9hk3",
        "colab_type": "code",
        "colab": {
          "base_uri": "https://localhost:8080/",
          "height": 34
        },
        "outputId": "c7398679-0b92-4b20-ed42-bfc054f34578"
      },
      "source": [
        "class a:\n",
        "  pass\n",
        "class b:\n",
        "  pass\n",
        "class c:\n",
        "  pass\n",
        "ob1=a()\n",
        "ob2=b()\n",
        "ob3=c()\n",
        "isinstance(ob2,b)\n",
        "#isinstance is used to check for membership(obj,class name)\n",
        "\n"
      ],
      "execution_count": 7,
      "outputs": [
        {
          "output_type": "execute_result",
          "data": {
            "text/plain": [
              "True"
            ]
          },
          "metadata": {
            "tags": []
          },
          "execution_count": 7
        }
      ]
    },
    {
      "cell_type": "code",
      "metadata": {
        "id": "CHoUFpAf_OEK",
        "colab_type": "code",
        "colab": {}
      },
      "source": [
        "class overload:\n",
        "  def add(self,a,b):\n",
        "    print(a+b)\n",
        "  def add(self,a,b,c):\n",
        "    print(a+b+c)\n",
        "o1=overload()\n",
        "o1.add(100,20,10)      "
      ],
      "execution_count": null,
      "outputs": []
    },
    {
      "cell_type": "code",
      "metadata": {
        "id": "qwnQr8MJAV4T",
        "colab_type": "code",
        "colab": {
          "base_uri": "https://localhost:8080/",
          "height": 50
        },
        "outputId": "04210123-66e1-413b-be47-1972ca76453e"
      },
      "source": [
        "class demo:\n",
        "  result=0\n",
        "  def add(self,instanceof=None,*args):\n",
        "    if instanceof == 'int':\n",
        "      self.result=0\n",
        "    if instanceof=='str':\n",
        "      self.result=''\n",
        "    for i in args:\n",
        "      self.result=self.result+i \n",
        "    return self.result\n",
        "d1=demo()\n",
        "print(d1.add('int',10.5,20,30))\n",
        "print(d1.add('str','i','love','python'))\n",
        "#*args takes multiple arguements \n",
        "   \n"
      ],
      "execution_count": 8,
      "outputs": [
        {
          "output_type": "stream",
          "text": [
            "60.5\n",
            "ilovepython\n"
          ],
          "name": "stdout"
        }
      ]
    },
    {
      "cell_type": "code",
      "metadata": {
        "id": "dLfQlXEvDEbo",
        "colab_type": "code",
        "colab": {}
      },
      "source": [
        "class overload:\n",
        "  def greeting(self,name=None):\n",
        "    if name is not None:\n",
        "      print('welcome ' + name)\n",
        "    else:\n",
        "      print('welcome')\n",
        "obj=overload()\n",
        "obj.greeting('Sushant ')\n",
        "#in this method it is a technique to define a method \n",
        "#in such a way that there are other ways to call\n",
        "        "
      ],
      "execution_count": null,
      "outputs": []
    },
    {
      "cell_type": "code",
      "metadata": {
        "id": "A_w3RL8UEDQc",
        "colab_type": "code",
        "colab": {}
      },
      "source": [
        ""
      ],
      "execution_count": null,
      "outputs": []
    },
    {
      "cell_type": "code",
      "metadata": {
        "id": "ja8SSREGB0hn",
        "colab_type": "code",
        "colab": {}
      },
      "source": [
        ""
      ],
      "execution_count": null,
      "outputs": []
    }
  ]
}