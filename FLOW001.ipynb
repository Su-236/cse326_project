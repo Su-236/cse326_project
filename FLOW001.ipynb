{
  "nbformat": 4,
  "nbformat_minor": 0,
  "metadata": {
    "colab": {
      "name": "Untitled6.ipynb",
      "provenance": [],
      "authorship_tag": "ABX9TyN33UgNkwDACR1K8giyb5JN",
      "include_colab_link": true
    },
    "kernelspec": {
      "name": "python3",
      "display_name": "Python 3"
    }
  },
  "cells": [
    {
      "cell_type": "markdown",
      "metadata": {
        "id": "view-in-github",
        "colab_type": "text"
      },
      "source": [
        "<a href=\"https://colab.research.google.com/github/Su-236/cse326_project/blob/master/FLOW001.ipynb\" target=\"_parent\"><img src=\"https://colab.research.google.com/assets/colab-badge.svg\" alt=\"Open In Colab\"/></a>"
      ]
    },
    {
      "cell_type": "code",
      "metadata": {
        "id": "KHwHyFD-JNy8",
        "colab_type": "code",
        "colab": {}
      },
      "source": [
        "t=int(input())\n",
        "for i in range(t):\n",
        "  a,b=map(int,input().split())\n",
        "  ans=a+b\n",
        "  print(ans)"
      ],
      "execution_count": null,
      "outputs": []
    }
  ]
}